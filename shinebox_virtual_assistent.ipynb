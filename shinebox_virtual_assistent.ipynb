{
  "cells": [
    {
      "cell_type": "markdown",
      "metadata": {
        "id": "JvwQmEzwalTc"
      },
      "source": [
        "<h1> ShineBox Virtual Assistant </h1>"
      ]
    },
    {
      "cell_type": "code",
      "execution_count": 30,
      "metadata": {
        "colab": {
          "base_uri": "https://localhost:8080/"
        },
        "id": "oL7gbUbLarAr",
        "outputId": "a0429ac9-4e2e-4204-dfb4-59ed72cb64b1"
      },
      "outputs": [
        {
          "name": "stdout",
          "output_type": "stream",
          "text": [
            "Drive already mounted at /content/drive/; to attempt to forcibly remount, call drive.mount(\"/content/drive/\", force_remount=True).\n"
          ]
        }
      ],
      "source": [
        "from google.colab import drive\n",
        "import sys\n",
        "drive.mount('/content/drive/')"
      ]
    },
    {
      "cell_type": "code",
      "execution_count": 31,
      "metadata": {
        "id": "wkU11lSlciCd"
      },
      "outputs": [],
      "source": [
        "sys.path.append(\"/content/drive/MyDrive/ShineBox\")"
      ]
    },
    {
      "cell_type": "code",
      "execution_count": 2,
      "metadata": {
        "id": "x3UbBgSdalTj"
      },
      "outputs": [],
      "source": [
        "import tensorflow as tf\n",
        "import matplotlib.pyplot as plt\n",
        "import matplotlib.ticker as ticker\n",
        "from sklearn.model_selection import train_test_split\n",
        "import unicodedata\n",
        "import re\n",
        "import numpy as np\n",
        "import os\n",
        "import io\n",
        "import time\n",
        "import random\n",
        "from typing import Union"
      ]
    },
    {
      "attachments": {},
      "cell_type": "markdown",
      "metadata": {
        "id": "TiPvtsElAlb3"
      },
      "source": [
        "<h2>Prepering The Data</h2>"
      ]
    },
    {
      "cell_type": "code",
      "execution_count": 33,
      "metadata": {
        "colab": {
          "base_uri": "https://localhost:8080/"
        },
        "id": "aiP9iYm9kpb3",
        "outputId": "ebe035de-f522-46f2-d460-b6a2efbe7366"
      },
      "outputs": [
        {
          "name": "stdout",
          "output_type": "stream",
          "text": [
            "input . ( do us passport holders need a visa for thailand ) => questionAndAnswer [ none ] . ( no )\n",
            "\n",
            "input . ( episode where lily and marshall get back together ) => questionAndAnswer [ none ] . ( Atlantic City )\n",
            "\n",
            "input . ( is negative infinity to positive infinity the same as all real numbers ) => questionAndAnswer [ none ] . ( no )\n",
            "\n",
            "input . ( who played the original scott robinson in neighbours ) => questionAndAnswer [ none ] . ( Darius Perkins )\n",
            "\n",
            "input . ( how many episodes in the originals season 2 ) => questionAndAnswer [ none ] . ( 22 )\n",
            "\n"
          ]
        }
      ],
      "source": [
        "\n",
        "def merge_and_shuffle(file1, file2, output_file):\n",
        "    with open(file1, 'r') as f1, open(file2, 'r') as f2:\n",
        "        lines = f1.readlines()[:14000] + f2.readlines()[:1000]\n",
        "    random.shuffle(lines)\n",
        "    print(\"\\n\".join(lines[:5]))\n",
        "    with open(output_file, 'w') as f:\n",
        "        f.writelines(lines)\n",
        "\n",
        "\n",
        "merge_and_shuffle(\"/content/drive/MyDrive/ShineBox/output.otl\",\"/content/drive/MyDrive/ShineBox/jokes.otl\", \"/content/drive/MyDrive/ShineBox/data.otl\")\n"
      ]
    },
    {
      "cell_type": "code",
      "execution_count": 34,
      "metadata": {
        "id": "XXEzo1ngfJDM"
      },
      "outputs": [],
      "source": [
        "\n",
        "def unicode_to_ascii(s: str) -> str:\n",
        "  \"\"\"\n",
        "  convert unicode to ascii and replaces all accented characters with their equivalent unaccented character (for example, é becomes e)\n",
        "  \"\"\"\n",
        "  return ''.join(c for c in unicodedata.normalize('NFD', s)\n",
        "      if unicodedata.category(c) != 'Mn')"
      ]
    },
    {
      "cell_type": "code",
      "execution_count": null,
      "metadata": {},
      "outputs": [],
      "source": [
        "def preprocess_sentence(w: str) -> str:\n",
        "  \"\"\"\n",
        "  adds spaces around punctuation and removes all non-alphanumeric characters and adds start and end tokens\n",
        "  \"\"\"\n",
        "  w = unicode_to_ascii(w.lower().strip()).replace(\")\",\" )\").replace(\"(\",\"( \")\n",
        "  w = re.sub(r\"([?.!,¿])\", r\" \\1 \", w)\n",
        "  w = re.sub(r'[\" \"]+', \" \", w)\n",
        "  w = re.sub(r\"[^a-zA-Z()[]?.!,¿]+\", \" \", w)\n",
        "  w = w.strip()\n",
        "  w = '<sos> ' + w + ' <eos>'\n",
        "  return w"
      ]
    },
    {
      "cell_type": "code",
      "execution_count": 36,
      "metadata": {
        "id": "LvrNG1apdX1R"
      },
      "outputs": [],
      "source": [
        "OTL_FILE_PATH = \"/content/drive/MyDrive/ShineBox/data.otl\"\n",
        "#otl - operartion trigger language\n",
        "\n",
        "def load_otl_file() -> list[str]:\n",
        "    with open(OTL_FILE_PATH, \"r\", encoding=\"utf-8\") as f:\n",
        "        return f.read().splitlines()\n",
        "\n",
        "def inputs_targets_tuple(otl_file: str) -> tuple[list[str], list[str]]:\n",
        "    inputs, targets = [], []\n",
        "    for line in otl_file:\n",
        "        input = preprocess_sentence(line.split(\"=>\")[0])\n",
        "        target = preprocess_sentence(line.split(\"=>\")[1])\n",
        "        inputs.append(input)\n",
        "        targets.append(target)\n",
        "    return inputs, targets"
      ]
    },
    {
      "cell_type": "code",
      "execution_count": 3,
      "metadata": {
        "id": "poSzqmmXjMrt"
      },
      "outputs": [],
      "source": [
        "def tokenize(lang: list[str]) -> tuple[np.ndarray, tf.keras.preprocessing.text.Tokenizer]:\n",
        "  \"\"\"\n",
        "  the function does the following:\n",
        "  1. Take the sentence, for example: \"May I borrow this book?\"\n",
        "  2. Find the English word index for each word\n",
        "  3. Create a tensor with the word indices: [18, 3, 141, 22, 47].\n",
        "  4. Add a padding to the end of the tensor so it's the same length as the other tensors in the set: [18, 3, 141, 22, 47, 0, 0, 0].\n",
        "  \"\"\"\n",
        "  \n",
        "  lang_tokenizer = tf.keras.preprocessing.text.Tokenizer(filters='')\n",
        "  lang_tokenizer.fit_on_texts(lang)\n",
        "\n",
        "  tensor = lang_tokenizer.texts_to_sequences(lang)\n",
        "\n",
        "  tensor = tf.keras.preprocessing.sequence.pad_sequences(tensor,padding='post')\n",
        "  return tensor, lang_tokenizer"
      ]
    },
    {
      "cell_type": "code",
      "execution_count": 38,
      "metadata": {
        "id": "O_DX8ydWluYS"
      },
      "outputs": [],
      "source": [
        "input_lang, target_lang = inputs_targets_tuple(load_otl_file())"
      ]
    },
    {
      "cell_type": "code",
      "execution_count": 39,
      "metadata": {
        "id": "apx_woizjOhD"
      },
      "outputs": [],
      "source": [
        "def load_data(num_examples: Union[int, None] = None) -> tuple[np.ndarray, np.ndarray, tf.keras.preprocessing.text.Tokenizer, tf.keras.preprocessing.text.Tokenizer]:\n",
        "  \"\"\"\"\n",
        "  1. Load the OTL file and store the inputs and targets in input_lang and target_lang\n",
        "  2. If num_examples is not None, then truncate the input and target lists to num_examples\n",
        "  3. Create tokenizers for the input and target languages using the tokenize function\n",
        "  4. Return the input and target tensors,  the input and target tokenizers\n",
        "  \"\"\"\n",
        "  input_lang, target_lang = inputs_targets_tuple(load_otl_file())\n",
        "  if(num_examples is not None):\n",
        "    input_lang = input_lang[:num_examples]\n",
        "    target_lang = target_lang[:num_examples]\n",
        "  \n",
        "  input_tensor, inp_lang_tokenizer = tokenize(input_lang)\n",
        "  target_tensor, targ_lang_tokenizer = tokenize(target_lang)\n",
        "\n",
        "  return input_tensor, target_tensor, inp_lang_tokenizer, targ_lang_tokenizer\n",
        "  "
      ]
    },
    {
      "cell_type": "code",
      "execution_count": 40,
      "metadata": {
        "id": "1GzTMzo8ksf-"
      },
      "outputs": [],
      "source": [
        "num_examples = 15000\n",
        "input_tensor, target_tensor, inp_lang, targ_lang = load_data(num_examples)"
      ]
    },
    {
      "cell_type": "code",
      "execution_count": 41,
      "metadata": {
        "colab": {
          "base_uri": "https://localhost:8080/"
        },
        "id": "ltdr1ThAlKhz",
        "outputId": "cf118eff-4164-4360-a850-71f52c6d4056"
      },
      "outputs": [
        {
          "name": "stdout",
          "output_type": "stream",
          "text": [
            "141 25\n"
          ]
        }
      ],
      "source": [
        "max_length_targ, max_length_inp = target_tensor.shape[1], input_tensor.shape[1]\n",
        "print(max_length_targ, max_length_inp)\n",
        "input_tensor_train, input_tensor_val, target_tensor_train, target_tensor_val = train_test_split(input_tensor, target_tensor, test_size=0.05)"
      ]
    },
    {
      "cell_type": "code",
      "execution_count": 42,
      "metadata": {
        "id": "ohC7R_7GAS9b"
      },
      "outputs": [],
      "source": [
        "# Configuration \n",
        "BUFFER_SIZE = len(input_tensor_train) #number of examples for training\n",
        "BATCH_SIZE = 128 #number of examples per batch\n",
        "steps_per_epoch = len(input_tensor_train)//BATCH_SIZE #num of batches\n",
        "steps_per_epoch_val = len(input_tensor_val)//BATCH_SIZE #num of batches in validation set\n",
        "embedding_dim = 256   #dimentioality of the embedding space\n",
        "units = 1024  #number of hidden units\n",
        "vocab_inp_size = len(inp_lang.word_index)+1 #size of the input vocabulary (add 1 for the 0 padding)\n",
        "vocab_tar_size = len(targ_lang.word_index)+1 #size of the target vocabulary (add 1 for the 0 padding)"
      ]
    },
    {
      "cell_type": "code",
      "execution_count": 43,
      "metadata": {
        "colab": {
          "base_uri": "https://localhost:8080/"
        },
        "id": "-GxXPsJPnICQ",
        "outputId": "77a55174-6bd0-44ee-ebd0-75c25aaeb814"
      },
      "outputs": [
        {
          "data": {
            "text/plain": [
              "(TensorShape([128, 25]), TensorShape([128, 141]))"
            ]
          },
          "execution_count": 43,
          "metadata": {},
          "output_type": "execute_result"
        }
      ],
      "source": [
        "#packing the data from the otl files to tf.data.dataset\n",
        "\n",
        "dataset = tf.data.Dataset.from_tensor_slices((input_tensor_train, target_tensor_train)).shuffle(BUFFER_SIZE)\n",
        "dataset = dataset.batch(BATCH_SIZE, drop_remainder=True)\n",
        "validation_dataset = tf.data.Dataset.from_tensor_slices((input_tensor_val, target_tensor_val)).shuffle(BUFFER_SIZE)\n",
        "validation_dataset = validation_dataset.batch(BATCH_SIZE, drop_remainder=True)\n",
        "\n",
        "example_input_batch, example_target_batch = next(iter(dataset))\n",
        "example_input_batch.shape, example_target_batch.shape"
      ]
    },
    {
      "attachments": {},
      "cell_type": "markdown",
      "metadata": {
        "id": "sDs-M1UOC_jp"
      },
      "source": [
        "<h2>Building The Models (DP And BAH)</h2>"
      ]
    },
    {
      "cell_type": "code",
      "execution_count": 44,
      "metadata": {
        "id": "QyYUflMdna9B"
      },
      "outputs": [],
      "source": [
        "\n",
        "class Encoder(tf.keras.Model):\n",
        "  def __init__(self, vocab_size, embedding_dim, enc_units, batch_size):\n",
        "    super(Encoder, self).__init__()\n",
        "    self.batch_size = batch_size\n",
        "    self.enc_units = enc_units\n",
        "    self.embedding = tf.keras.layers.Embedding(vocab_size, embedding_dim) #embedding layer\n",
        "    self.gru = tf.keras.layers.GRU(self.enc_units, return_sequences=True, return_state=True, recurrent_initializer='glorot_uniform') #GRU layer\n",
        "\n",
        "  def call(self, x, hidden):\n",
        "    x = self.embedding(x) #embedding layer\n",
        "    output, state = self.gru(x, initial_state = hidden) #GRU layer\n",
        "    return output, state\n",
        "    \n",
        "  def initialize_hidden_state(self):\n",
        "    return tf.zeros((self.batch_size, self.enc_units)) #initializing the hidden state"
      ]
    },
    {
      "cell_type": "code",
      "execution_count": 45,
      "metadata": {
        "id": "LZ7OHYCnnnVJ"
      },
      "outputs": [],
      "source": [
        "class DotProductAttention(tf.keras.layers.Layer):\n",
        "  def call(self, query, values):\n",
        "    query_with_time_axis = tf.expand_dims(query, 1)\n",
        "    score = query_with_time_axis * values\n",
        "    score = tf.reduce_sum(score, axis=2)\n",
        "    score = tf.expand_dims(score, 2)\n",
        "    attention_weights = tf.nn.softmax(score, axis=1)\n",
        "    context_vector = attention_weights * values\n",
        "    context_vector = tf.reduce_sum(context_vector, axis=1)\n",
        "\n",
        "    return context_vector, attention_weights"
      ]
    },
    {
      "cell_type": "code",
      "execution_count": 46,
      "metadata": {
        "id": "jDOenJhJn39z"
      },
      "outputs": [],
      "source": [
        "class BahdanauAttention(tf.keras.layers.Layer):\n",
        "  def __init__(self, units):\n",
        "    super(BahdanauAttention, self).__init__()\n",
        "    self.W1 = tf.keras.layers.Dense(units)\n",
        "    self.W2 = tf.keras.layers.Dense(units)\n",
        "    self.V = tf.keras.layers.Dense(1)\n",
        "\n",
        "  def call(self, query, values):\n",
        "    query_with_time_axis = tf.expand_dims(query, 1)\n",
        "    score = self.V(tf.nn.tanh( self.W1(query_with_time_axis) + self.W2(values)))\n",
        "    attention_weights = tf.nn.softmax(score, axis=1)\n",
        "    context_vector = attention_weights * values\n",
        "    context_vector = tf.reduce_sum(context_vector, axis=1)\n",
        "\n",
        "    return context_vector, attention_weights"
      ]
    },
    {
      "cell_type": "code",
      "execution_count": 47,
      "metadata": {
        "id": "KzHWQsEvn6rq"
      },
      "outputs": [],
      "source": [
        "class DecoderWithAttention(tf.keras.Model):\n",
        "  def __init__(self, vocab_size, embedding_dim, dec_units, batch_size, attention_layer = None):\n",
        "    super(DecoderWithAttention, self).__init__()\n",
        "    self.batch_size = batch_size  \n",
        "    self.dec_units = dec_units\n",
        "    self.embedding = tf.keras.layers.Embedding(vocab_size, embedding_dim) #embedding layer\n",
        "    self.gru = tf.keras.layers.GRU(self.dec_units, return_sequences=True, return_state=True, recurrent_initializer='glorot_uniform') #GRU layer\n",
        "    self.fc = tf.keras.layers.Dense(vocab_size) #dense layer\n",
        "\n",
        "    self.attention = attention_layer #attention layer\n",
        "\n",
        "  def call(self, x, hidden, enc_output):\n",
        "    x = self.embedding(x) #embedding layer\n",
        "    attention_weights = None\n",
        "    if self.attention: #if attention layer is not None\n",
        "      context_vector, attention_weights = self.attention(hidden, enc_output) #calculate the context vector and the attention weights\n",
        "      x = tf.concat([tf.expand_dims(context_vector, 1), x], axis=-1) #concatenate the context vector with the input\n",
        "\n",
        "    output, state = self.gru(x, initial_state = hidden) #GRU layer\n",
        "\n",
        "    output = tf.reshape(output, (-1, output.shape[2])) #reshape the output\n",
        "\n",
        "    x = self.fc(output) #dense layer\n",
        " \n",
        "    return x, state, attention_weights #return the output, the hidden state and the attention weights"
      ]
    },
    {
      "attachments": {},
      "cell_type": "markdown",
      "metadata": {},
      "source": [
        "<h2>Building the Training framework</h2>"
      ]
    },
    {
      "cell_type": "code",
      "execution_count": 48,
      "metadata": {
        "id": "UW0nNAiEoVpB"
      },
      "outputs": [],
      "source": [
        "\n",
        "loss_object = tf.keras.losses.SparseCategoricalCrossentropy(from_logits=True, reduction='none')  \n",
        "optimizer = tf.keras.optimizers.Adam() #optimizer - Adam\n",
        "\n",
        "def loss_function(real, pred):\n",
        "  mask = tf.math.logical_not(tf.math.equal(real, 0))  #masking the loss\n",
        "  loss_ = loss_object(real, pred) #calculating the loss\n",
        "  mask = tf.cast(mask, dtype=loss_.dtype) #casting the mask to the same type as the loss\n",
        "  loss_ *= mask #applying the mask to the loss\n",
        "  return tf.reduce_mean(loss_) #returning the mean loss"
      ]
    },
    {
      "cell_type": "code",
      "execution_count": 49,
      "metadata": {
        "id": "fDXMPLOQoZ8O"
      },
      "outputs": [],
      "source": [
        "def get_train_step_func(): #function to return the train step (decorated with tf.function)\n",
        "\n",
        "  @tf.function\n",
        "  def train_step(inp, targ, enc_hidden, encoder, decoder):\n",
        "    loss = 0\n",
        "\n",
        "    with tf.GradientTape() as tape:  # using the gradient tape to calculate the gradients\n",
        "      enc_output, enc_hidden = encoder(inp, enc_hidden) #passing the input to the encoder\n",
        "\n",
        "      dec_hidden = enc_hidden #setting the decoder hidden state to the encoder hidden state\n",
        "\n",
        "      dec_input = tf.expand_dims([targ_lang.word_index['<sos>']] * BATCH_SIZE, 1) #setting the decoder input to the <sos> token\n",
        "\n",
        "      for t in range(1, targ.shape[1]): #for each token in the target\n",
        "        predictions, dec_hidden, _ = decoder(dec_input, dec_hidden, enc_output) #passing the decoder input, the decoder hidden state and the encoder output to the decoder\n",
        "\n",
        "        loss += loss_function(targ[:, t], predictions) #calculating the loss\n",
        "\n",
        "        dec_input = tf.expand_dims(targ[:, t], 1) #setting the decoder input to the target token\n",
        "\n",
        "    batch_loss = (loss / int(targ.shape[1])) #calculating the mean loss\n",
        "\n",
        "    variables = encoder.trainable_variables + decoder.trainable_variables #getting the trainable variables\n",
        "\n",
        "    optimizer.build(variables) #building the optimizer\n",
        "\n",
        "    gradients = tape.gradient(loss, variables) #calculating the gradients\n",
        "\n",
        "    optimizer.apply_gradients(zip(gradients, variables)) #applying the gradients\n",
        "\n",
        "    return batch_loss #returning the mean loss\n",
        "    \n",
        "  return train_step #returning the train step"
      ]
    },
    {
      "cell_type": "code",
      "execution_count": 50,
      "metadata": {
        "id": "28Bd4ZxOoc_U"
      },
      "outputs": [],
      "source": [
        "def caculate_validation_loss(inp, targ, enc_hidden, encoder, decoder):\n",
        "  loss = 0 \n",
        "  enc_output, enc_hidden = encoder(inp, enc_hidden)\n",
        "  dec_hidden = enc_hidden\n",
        "  dec_input = tf.expand_dims([targ_lang.word_index['<sos>']] * BATCH_SIZE, 1)\n",
        "\n",
        "  # Teacher forcing - feeding the target as the next input\n",
        "  for t in range(1, targ.shape[1]):\n",
        "    predictions, dec_hidden, _ = decoder(dec_input, dec_hidden, enc_output)\n",
        "    loss += loss_function(targ[:, t], predictions)\n",
        "    dec_input = tf.expand_dims(targ[:, t], 1)\n",
        "\n",
        "  loss = loss / int(targ.shape[1])\n",
        "  return loss"
      ]
    },
    {
      "cell_type": "code",
      "execution_count": 51,
      "metadata": {
        "id": "uZkGwv2Vogcz"
      },
      "outputs": [],
      "source": [
        "def training_seq2seq(epochs, attention):\n",
        "  encoder = Encoder(vocab_inp_size, embedding_dim, units, BATCH_SIZE) #creating the encoder \n",
        "  decoder = DecoderWithAttention(vocab_tar_size, embedding_dim, units, BATCH_SIZE, attention) #creating the decoder (with attention that is passed as a parameter)\n",
        "  train_step_func = get_train_step_func() #getting the train step function\n",
        "  training_loss: list[float] = []\n",
        "  validation_loss: list[float] = []\n",
        "\n",
        "  for epoch in range(epochs): #for each epoch\n",
        "    start: float = time.time()\n",
        "    enc_hidden = encoder.initialize_hidden_state() #initializing the encoder hidden state\n",
        "    total_loss = 0\n",
        "\n",
        "    for (batch, (inp, targ)) in enumerate(dataset.take(steps_per_epoch)): #for each batch and input and target in the dataset (unpacking the dataset using the take function)\n",
        "      batch_loss = train_step_func(inp, targ, enc_hidden, encoder, decoder) #calculating the batch loss\n",
        "      total_loss += batch_loss\n",
        "\n",
        "      if batch % 10 == 0: #printing the loss every 10 batches\n",
        "        print('Epoch {} Batch {} Loss {:.8f}'.format(epoch + 1, batch, batch_loss))\n",
        "        \n",
        "    #calculating the validation loss\n",
        "    enc_hidden = encoder.initialize_hidden_state()\n",
        "    total_val_loss = 0\n",
        "    for (batch, (inp, targ)) in enumerate(validation_dataset.take(steps_per_epoch)):\n",
        "      val_loss = caculate_validation_loss(inp, targ, enc_hidden, encoder, decoder)\n",
        "      total_val_loss += val_loss\n",
        "\n",
        "\n",
        "    training_loss.append(total_loss / steps_per_epoch) #appending the mean loss to the training loss list\n",
        "    validation_loss.append(total_val_loss / steps_per_epoch_val) #appending the mean loss to the validation loss list\n",
        "\n",
        "\n",
        "    print('Epoch {} Loss {:.8f} Validation Loss {:.8f}'.format(epoch + 1, training_loss[-1], validation_loss[-1])) #printing the mean loss and the mean validation loss\n",
        "    print(f'Time taken for 1 epoch {time.time() - start} sec\\n') #printing the time taken for the epoch\n",
        "  return encoder, decoder, training_loss, validation_loss"
      ]
    },
    {
      "attachments": {},
      "cell_type": "markdown",
      "metadata": {},
      "source": [
        "<h2>Training and Predicting</h2>"
      ]
    },
    {
      "cell_type": "code",
      "execution_count": 52,
      "metadata": {
        "id": "2ZsSG83qfiCj"
      },
      "outputs": [],
      "source": [
        "import pickle\n",
        "\n",
        "def save_tokenizers(): #function to save the tokenizers\n",
        "    with open('/content/drive/MyDrive/ShineBox/inp_lang.pickle', 'wb') as handle:\n",
        "        pickle.dump(inp_lang, handle, protocol=pickle.HIGHEST_PROTOCOL)\n",
        "    with open('/content/drive/MyDrive/ShineBox/targ_lang.pickle', 'wb') as handle:\n",
        "        pickle.dump(targ_lang, handle, protocol=pickle.HIGHEST_PROTOCOL)\n",
        "\n",
        "save_tokenizers()"
      ]
    },
    {
      "cell_type": "code",
      "execution_count": null,
      "metadata": {
        "colab": {
          "background_save": true
        },
        "id": "Mmok-VqhsuRu"
      },
      "outputs": [],
      "source": [
        "epochs = 150\n",
        "attention = DotProductAttention()\n",
        "print(\"Running seq2seq model with dot product attention\")\n",
        "encoder_dp, decoder_dp, training_loss, validation_loss = training_seq2seq(epochs, attention)\n",
        "\n",
        "encoder_dp.save_weights(\"/content/drive/MyDrive/ShineBox/DP/encoder_dp\")\n",
        "decoder_dp.save_weights('/content/drive/MyDrive/ShineBox/DP/decoder_dp')\n"
      ]
    },
    {
      "cell_type": "code",
      "execution_count": null,
      "metadata": {
        "id": "embcpfkkt4Ok"
      },
      "outputs": [],
      "source": [
        "import matplotlib.pyplot as plt\n",
        "\n",
        "\n",
        "# Plotting the graph\n",
        "plt.plot(range(len(training_loss)), training_loss)\n",
        "\n",
        "# Setting the x-axis label\n",
        "plt.xlabel('Epoch')\n",
        "\n",
        "# Setting the y-axis label\n",
        "plt.ylabel('Training loss')\n",
        "\n",
        "plt.title('Training Loss Graph ( Dot Product Attention Mechanism )')\n",
        "\n",
        "\n",
        "# Displaying the plot\n",
        "plt.show()"
      ]
    },
    {
      "cell_type": "code",
      "execution_count": null,
      "metadata": {
        "id": "zf5EbfntSI92"
      },
      "outputs": [],
      "source": [
        "epochs = 150\n",
        "attention = BahdanauAttention(units)\n",
        "print(\"Running seq2seq model with Bahdanau attention\")\n",
        "encoder_bah, decoder_bah, training_loss, validation_loss = training_seq2seq(epochs, attention)\n",
        "\n",
        "\n",
        "encoder_bah.save_weights(\"/content/drive/MyDrive/ShineBox/BAH/encoder_bah\")\n",
        "decoder_bah.save_weights('/content/drive/MyDrive/ShineBox/BAH/decoder_bah')\n",
        "\n"
      ]
    },
    {
      "cell_type": "code",
      "execution_count": null,
      "metadata": {
        "id": "1Pj4-YZq_Ugf"
      },
      "outputs": [],
      "source": [
        "import matplotlib.pyplot as plt\n",
        "\n",
        "\n",
        "# Plotting the graph\n",
        "plt.plot(range(len(training_loss)), training_loss)\n",
        "\n",
        "# Setting the x-axis label\n",
        "plt.xlabel('Epoch')\n",
        "\n",
        "# Setting the y-axis label\n",
        "plt.ylabel('Training loss')\n",
        "\n",
        "plt.title('Training Loss Graph ( Dot Product Attention Mechanism )')\n",
        "\n",
        "\n",
        "# Displaying the plot\n",
        "plt.show()"
      ]
    },
    {
      "cell_type": "code",
      "execution_count": null,
      "metadata": {
        "id": "ENtIdDCruddT"
      },
      "outputs": [],
      "source": [
        "\n",
        "def predict(sentence, encoder, decoder):\n",
        "  attention_plot = np.zeros((max_length_targ, max_length_inp)) #creating an attention plot\n",
        "\n",
        "  sentence = preprocess_sentence(sentence) #preprocessing the sentence\n",
        "\n",
        "  inputs = [inp_lang.word_index[i] for i in sentence.split(' ')] #creating the inputs using the input language tokenizer\n",
        "  inputs = tf.keras.preprocessing.sequence.pad_sequences([inputs], maxlen=max_length_inp, padding='post')  #padding the inputs\n",
        "  inputs = tf.convert_to_tensor(inputs) #converting the inputs to a tensor\n",
        "\n",
        "  result = ''\n",
        "\n",
        "  hidden = [tf.zeros((1, units))] #creating the hidden state\n",
        "  enc_out, enc_hidden = encoder(inputs, hidden) #getting the encoder output and the encoder hidden state\n",
        "\n",
        "  dec_hidden = enc_hidden #setting the decoder hidden state to the encoder hidden state\n",
        "  dec_input = tf.expand_dims([targ_lang.word_index['<sos>']], 0) #setting the decoder input to the start of sentence token\n",
        "\n",
        "  for t in range(max_length_targ): #for each word in the target language\n",
        "    predictions, dec_hidden, attention_weights = decoder(dec_input, dec_hidden, enc_out) #getting the predictions, the decoder hidden state and the attention weights\n",
        "\n",
        "    predicted_id = tf.argmax(predictions[0]).numpy() #getting the predicted id\n",
        "\n",
        "    result += targ_lang.index_word[predicted_id] + ' ' #adding the predicted word to the result\n",
        "\n",
        "    if targ_lang.index_word[predicted_id] == '<eos>': #if the predicted word is the end of sentence token then return the result and the sentence\n",
        "      return result, sentence\n",
        "\n",
        "    dec_input = tf.expand_dims([predicted_id], 0) #setting the decoder input to the predicted id\n",
        "\n",
        "  return result, sentence #returning the result and the sentence if the end of sentence token is not predicted after the maximum length of the target language"
      ]
    },
    {
      "cell_type": "code",
      "execution_count": null,
      "metadata": {
        "id": "_qWwvJQnui1P"
      },
      "outputs": [],
      "source": [
        "\n",
        "result, sentence = predict(f\"input . ( {input()} )\", encoder_bah, decoder_bah)\n",
        "print('Input: %s' % (sentence))\n",
        "print('Predicted translation: {}'.format(result))\n",
        "     \n",
        "\n"
      ]
    }
  ],
  "metadata": {
    "accelerator": "GPU",
    "colab": {
      "machine_shape": "hm",
      "provenance": []
    },
    "gpuClass": "premium",
    "kernelspec": {
      "display_name": "Python 3",
      "language": "python",
      "name": "python3"
    },
    "language_info": {
      "codemirror_mode": {
        "name": "ipython",
        "version": 3
      },
      "file_extension": ".py",
      "mimetype": "text/x-python",
      "name": "python",
      "nbconvert_exporter": "python",
      "pygments_lexer": "ipython3",
      "version": "3.10.4"
    },
    "vscode": {
      "interpreter": {
        "hash": "872cf3f04ab44282f9fbbbe56fa6acb2b524ec9737df5e5b9725aee711983706"
      }
    }
  },
  "nbformat": 4,
  "nbformat_minor": 0
}
